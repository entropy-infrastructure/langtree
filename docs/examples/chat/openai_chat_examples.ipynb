{
 "cells": [
  {
   "cell_type": "code",
   "execution_count": null,
   "id": "4e608d30",
   "metadata": {},
   "outputs": [],
   "source": [
    "from langtree.models.openai import OpenAIChatCompletion\n",
    "from langtree.core import Buffer, Prompt\n",
    "from langtree.utils.data import Data\n",
    "\n",
    "def openai_chat_completion_example():\n",
    "    model = \"gpt-3.5-turbo\"\n",
    "\n",
    "    history = Buffer(3)\n",
    "    chat = OpenAIChatCompletion(model=model)\n",
    "\n",
    "    system_prompt = Prompt(\"You are a helpful assistant\")\n",
    "    user_prompt = Prompt(\"{{banana}}.{{dev}} is cool\")\n",
    "\n",
    "    sys_content = system_prompt()\n",
    "    user_content = user_prompt(banana=\"openai\", dev=\"com\")\n",
    "    sys_message = Data({\"role\": \"system\", \"content\": None})\n",
    "    user_message = Data(role=\"user\", content=None)\n",
    "\n",
    "    s = sys_message(content=sys_content)\n",
    "    u = user_message(content=user_content)\n",
    "\n",
    "    history += s\n",
    "    history += u\n",
    "\n",
    "\n",
    "    for i in range(3):\n",
    "        response = chat(messages=history.memory)\n",
    "        history += user_message(content=response.content)\n",
    "        print(response)\n",
    "\n",
    "if __name__ == \"__main__\":\n",
    "    openai_chat_completion_example()"
   ]
  }
 ],
 "metadata": {},
 "nbformat": 4,
 "nbformat_minor": 5
}
