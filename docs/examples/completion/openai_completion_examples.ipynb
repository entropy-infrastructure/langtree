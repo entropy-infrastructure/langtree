{
 "cells": [
  {
   "cell_type": "code",
   "execution_count": null,
   "id": "78c1322d",
   "metadata": {},
   "outputs": [],
   "source": [
    "from langtree.models.openai import OpenAICompletion\n",
    "from langtree.core import Prompt\n",
    "\n",
    "\n",
    "def openai_completion_example():\n",
    "    model = \"text-davinci-003\"\n",
    "\n",
    "    chat = OpenAICompletion(model=model)\n",
    "\n",
    "    user_prompt = Prompt(\"{{banana}}.{{dev}} is cool what do you think?\")\n",
    "\n",
    "    response = chat(prompt=user_prompt(banana=\"openai\", dev=\"com\"), max_tokens=200)\n",
    "\n",
    "    print(response)\n",
    "\n",
    "if __name__ == \"__main__\":\n",
    "    openai_completion_example()\n"
   ]
  }
 ],
 "metadata": {},
 "nbformat": 4,
 "nbformat_minor": 5
}
