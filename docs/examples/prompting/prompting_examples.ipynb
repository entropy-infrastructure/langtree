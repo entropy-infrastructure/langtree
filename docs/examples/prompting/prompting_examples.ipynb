{
 "cells": [
  {
   "cell_type": "code",
   "execution_count": null,
   "id": "f780001f",
   "metadata": {},
   "outputs": [],
   "source": [
    "from langtree.core import Prompt\n",
    "from langtree.prompting import UserMessage, SystemMessage\n",
    "\n",
    "\n",
    "\"\"\"\n",
    "Here we are defining two prompts. These aren't assigned to roles at first.\n",
    "\n",
    "To assign these to message roles, we can use the message types as showm below.\n",
    "\"\"\"\n",
    "\n",
    "\n",
    "def Basics():\n",
    "    system_prompt = Prompt(\"You are a helpful assistant\")\n",
    "    user_prompt = Prompt(\"{{banana}}.{{dev}} is cool\")\n"
   ]
  },
  {
   "cell_type": "markdown",
   "id": "2df166ae",
   "metadata": {},
   "source": [
    "Render the prompt"
   ]
  },
  {
   "cell_type": "code",
   "execution_count": null,
   "id": "6dfff054",
   "metadata": {},
   "outputs": [],
   "source": [
    "    sys_content = system_prompt()\n",
    "    sys_msg = SystemMessage(content=sys_content)\n"
   ]
  },
  {
   "cell_type": "markdown",
   "id": "8c5bde48",
   "metadata": {},
   "source": [
    "Render the prompt with the variables"
   ]
  },
  {
   "cell_type": "code",
   "execution_count": null,
   "id": "02b7815a",
   "metadata": {},
   "outputs": [],
   "source": [
    "    usr_content = user_prompt(banana=\"open\", dev=\"ai\")\n",
    "    usr_msg = UserMessage(content=usr_content)\n",
    "\n",
    "    print(sys_msg)\n",
    "    print(usr_msg)\n",
    "\n",
    "\n",
    "\"\"\"\n",
    "Now that we know how prompting works, we can do arithmetic on prompts!\n",
    "\n",
    "This is great for few shot prompting since you can iteratively add and configure your prompts.\n",
    "\n",
    "WARNING: THERE CAN ONLY BE ONE OF EACH PROMPT KEYWORD, make sure you name your prompt vars accordingly.\n",
    "\"\"\"\n",
    "def Basics_part_2():\n",
    "    system_prompt = Prompt(\"You are a helpful assistant\")\n",
    "    user_prompt = Prompt(\"{{banana}}.{{dev}} is cool\")\n",
    "    prompt = user_prompt + system_prompt\n"
   ]
  },
  {
   "cell_type": "markdown",
   "id": "1ee2efea",
   "metadata": {},
   "source": [
    "Render the prompt with the variables"
   ]
  },
  {
   "cell_type": "code",
   "execution_count": null,
   "id": "36959b43",
   "metadata": {},
   "outputs": [],
   "source": [
    "    content = prompt(banana=\"open\", dev=\"ai\")\n",
    "    msg = UserMessage(content=content)\n",
    "\n",
    "    print(msg)\n",
    "\n",
    "\"\"\"\n",
    "We are currently working on adding function calling and function message support\n",
    "\"\"\""
   ]
  }
 ],
 "metadata": {},
 "nbformat": 4,
 "nbformat_minor": 5
}
