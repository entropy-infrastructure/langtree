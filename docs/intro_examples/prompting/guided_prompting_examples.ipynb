{
 "cells": [
  {
   "cell_type": "markdown",
   "id": "60fdf93f",
   "metadata": {},
   "source": [
    "# Introduction to Prompting\n",
    "\n",
    "In this notebook, we'll explore the basics of prompting and rendering prompts. Follow along with the code and instructions to get a hands-on experience. Feel free to modify and experiment with the code as you go!"
   ]
  },
  {
   "cell_type": "code",
   "execution_count": 1,
   "id": "76e1cfcc-f0f7-48c7-ab2d-00ec50716dec",
   "metadata": {},
   "outputs": [],
   "source": [
    "pip install langtree --quiet"
   ]
  },
  {
   "cell_type": "markdown",
   "id": "5c8d8c85-be1f-48ef-8733-52e5ab6d60f1",
   "metadata": {},
   "source": [
    "(*The above is required for compiling the docs*)"
   ]
  },
  {
   "cell_type": "markdown",
   "id": "ed95b175-4838-49b9-9d92-f697302baef1",
   "metadata": {},
   "source": [
    "## Import the required modules\n",
    "\n",
    "For this example we will be doing an example of the built in prompting features.\n",
    "\n",
    "`langtree.core`: This is where the core functionality lives!\n",
    "\n",
    "`langtree.prompting`: This is where the prompting utils live."
   ]
  },
  {
   "cell_type": "code",
   "execution_count": 2,
   "id": "f780001f",
   "metadata": {},
   "outputs": [
    {
     "ename": "ModuleNotFoundError",
     "evalue": "No module named 'langtree'",
     "output_type": "error",
     "traceback": [
      "\u001b[0;31m---------------------------------------------------------------------------\u001b[0m",
      "\u001b[0;31mModuleNotFoundError\u001b[0m                       Traceback (most recent call last)",
      "Cell \u001b[0;32mIn[2], line 1\u001b[0m\n\u001b[0;32m----> 1\u001b[0m \u001b[38;5;28;01mfrom\u001b[39;00m \u001b[38;5;21;01mlangtree\u001b[39;00m\u001b[38;5;21;01m.\u001b[39;00m\u001b[38;5;21;01mcore\u001b[39;00m \u001b[38;5;28;01mimport\u001b[39;00m Prompt\n\u001b[1;32m      2\u001b[0m \u001b[38;5;28;01mfrom\u001b[39;00m \u001b[38;5;21;01mlangtree\u001b[39;00m\u001b[38;5;21;01m.\u001b[39;00m\u001b[38;5;21;01mprompting\u001b[39;00m \u001b[38;5;28;01mimport\u001b[39;00m UserMessage, SystemMessage\n",
      "\u001b[0;31mModuleNotFoundError\u001b[0m: No module named 'langtree'"
     ]
    }
   ],
   "source": [
    "from langtree.core import Prompt\n",
    "from langtree.prompting import UserMessage, SystemMessage"
   ]
  },
  {
   "cell_type": "markdown",
   "id": "841c6771-5e35-4fdf-9262-5fe8ee102065",
   "metadata": {},
   "source": [
    "## Define the prompts\n",
    "\n",
    "Here we are defining two prompts. These aren't assigned to roles at first.\n",
    "To assign these to message roles, we can use the message types as shown below.\n",
    "\n",
    "We pass strings to instantiate a prompt object."
   ]
  },
  {
   "cell_type": "code",
   "execution_count": null,
   "id": "67d84787-dbc5-40ac-8bec-0edeb2ca2952",
   "metadata": {},
   "outputs": [],
   "source": [
    "system_prompt = Prompt(\"You are a helpful assistant\")\n",
    "user_prompt = Prompt(\"{{banana}}.{{dev}} is cool\")"
   ]
  },
  {
   "cell_type": "markdown",
   "id": "822c406c-8c21-425d-987e-dc1ab2c6f349",
   "metadata": {},
   "source": [
    "Now we can render them by just calling the prompt.\n",
    "\n",
    "First, let's render the system prompt."
   ]
  },
  {
   "cell_type": "code",
   "execution_count": 22,
   "id": "6dfff054",
   "metadata": {},
   "outputs": [
    {
     "name": "stdout",
     "output_type": "stream",
     "text": [
      "{'role': 'system', 'content': 'You are a helpful assistant'}\n"
     ]
    }
   ],
   "source": [
    "sys_content = system_prompt()\n",
    "sys_msg = SystemMessage(content=sys_content)\n",
    "\n",
    "print(sys_msg)"
   ]
  },
  {
   "cell_type": "markdown",
   "id": "b1b16f46-2953-4585-bd9f-87fb7e433778",
   "metadata": {},
   "source": [
    "Now lets render the user prompt. This is slightly different, since the user prompt has *substitutions*\n",
    "\n",
    "A *substitution* is defined in the string we pass with `{{keyword}}`. `keyword` is automatically now a keyword arg we can pass to the prompt to render a string. Lets see how rendering with substitutions looks:"
   ]
  },
  {
   "cell_type": "code",
   "execution_count": 23,
   "id": "3812d48b-b44e-4ac6-a980-40132036dc23",
   "metadata": {},
   "outputs": [
    {
     "name": "stdout",
     "output_type": "stream",
     "text": [
      "{'role': 'user', 'content': 'open.ai is cool'}\n"
     ]
    }
   ],
   "source": [
    "usr_content = user_prompt(banana=\"open\", dev=\"ai\")\n",
    "usr_msg = UserMessage(content=usr_content)\n",
    "\n",
    "print(usr_msg)"
   ]
  },
  {
   "cell_type": "markdown",
   "id": "92acae58-92e3-4f39-91ad-2aa5c7fc8d1e",
   "metadata": {},
   "source": [
    "## More Prompting\n",
    "\n",
    "Now that we know how prompting works, we can do arithmetic on prompts!\n",
    "\n",
    "This is great for few shot prompting since you can iteratively add and configure your prompts.\n"
   ]
  },
  {
   "cell_type": "code",
   "execution_count": 24,
   "id": "02b7815a",
   "metadata": {},
   "outputs": [],
   "source": [
    "system_prompt = Prompt(\"You are a helpful assistant\")\n",
    "user_prompt = Prompt(\"{{banana}}.{{dev}} is cool. \")\n",
    "prompt = user_prompt + system_prompt"
   ]
  },
  {
   "cell_type": "markdown",
   "id": "1ee2efea",
   "metadata": {},
   "source": [
    "Here we are defining the same prompts as before, but then we can **add** them together.\n",
    "\n",
    "When we add prompts together, what happens is the underlying templates are added together, this then results in one big template.\n",
    "This means that the keyword args from both are now available on one prompt object.\n"
   ]
  },
  {
   "cell_type": "code",
   "execution_count": 25,
   "id": "36959b43",
   "metadata": {},
   "outputs": [
    {
     "name": "stdout",
     "output_type": "stream",
     "text": [
      "{'role': 'user', 'content': 'openai.com is cool. You are a helpful assistant'}\n"
     ]
    }
   ],
   "source": [
    "content = prompt(banana=\"openai\", dev=\"com\")\n",
    "combined_msg = UserMessage(content=content)\n",
    "\n",
    "print(combined_msg)"
   ]
  },
  {
   "cell_type": "markdown",
   "id": "ce8cd72d-1c39-4011-8f4c-5481022879f8",
   "metadata": {},
   "source": [
    "\n",
    "**WARNING:** *THERE CAN ONLY BE ONE OF EACH PROMPT KEYWORD, make sure you name your prompt vars accordingly.*\n"
   ]
  },
  {
   "cell_type": "markdown",
   "id": "c73011ba",
   "metadata": {},
   "source": [
    "## Recap\n",
    "\n",
    "In this notebook, we covered how to make prompts, messages, and how to add them together!"
   ]
  }
 ],
 "metadata": {
  "kernelspec": {
   "display_name": "Python 3 (ipykernel)",
   "language": "python",
   "name": "python3"
  },
  "language_info": {
   "codemirror_mode": {
    "name": "ipython",
    "version": 3
   },
   "file_extension": ".py",
   "mimetype": "text/x-python",
   "name": "python",
   "nbconvert_exporter": "python",
   "pygments_lexer": "ipython3",
   "version": "3.10.6"
  }
 },
 "nbformat": 4,
 "nbformat_minor": 5
}
